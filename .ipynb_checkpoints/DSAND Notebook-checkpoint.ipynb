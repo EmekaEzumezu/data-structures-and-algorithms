{
 "cells": [
  {
   "cell_type": "code",
   "execution_count": null,
   "id": "0ecd1f61",
   "metadata": {},
   "outputs": [],
   "source": [
    "def daysBetweenDates(year1, month1, day1, year2, month2, day2):\n",
    "    \"\"\"\n",
    "    Calculates the number of days between two dates.\n",
    "    \"\"\"\n",
    "\n",
    "    # TODO - by the end of this lesson you will have\n",
    "    #  completed this function. You do not need to complete\n",
    "    #  it yet though!\n",
    "\n",
    "    return\n",
    "\n",
    "\n",
    "daysBetweenDates(2017, 12, 30,  2018, 1,  1)"
   ]
  },
  {
   "cell_type": "code",
   "execution_count": 23,
   "id": "97c09323",
   "metadata": {},
   "outputs": [],
   "source": [
    "###\n",
    "### Define a simple nextDay procedure, that assumes\n",
    "### every month has 30 days.\n",
    "###\n",
    "### For example:\n",
    "###    nextDay(1999, 12, 30) => (2000, 1, 1)\n",
    "###    nextDay(2013, 1, 30) => (2013, 2, 1)\n",
    "###    nextDay(2012, 12, 30) => (2013, 1, 1)  (even though December really has 31 days)\n",
    "###\n",
    "\n",
    "def nextDay(year, month, day):\n",
    "    \"\"\"\n",
    "    Returns the year, month, day of the next day.\n",
    "    Simple version: assume every month has 30 days.\n",
    "    \"\"\"\n",
    "    # YOUR CODE HERE\n",
    "    if day < 30:\n",
    "        return year, month, day + 1\n",
    "    else:    \n",
    "        if month < 12:\n",
    "            return year, month + 1, 1\n",
    "        else: \n",
    "            return year + 1, 1, 1\n",
    "        \n",
    "    return year, month, day"
   ]
  },
  {
   "cell_type": "code",
   "execution_count": 26,
   "id": "4fd7f211",
   "metadata": {},
   "outputs": [
    {
     "name": "stdout",
     "output_type": "stream",
     "text": [
      "(2000, 1, 1)\n",
      "(2013, 2, 1)\n",
      "(2012, 11, 29)\n"
     ]
    }
   ],
   "source": [
    "print(nextDay(1999, 12, 30))\n",
    "print(nextDay(2013, 1, 30))\n",
    "print(nextDay(2012, 11, 28))\n",
    "\n",
    "###    nextDay(1999, 12, 30) => (2000, 1, 1)\n",
    "###    nextDay(2013, 1, 30) => (2013, 2, 1)\n",
    "###    nextDay(2012, 12, 30) => (2013, 1, 1)"
   ]
  },
  {
   "cell_type": "code",
   "execution_count": null,
   "id": "a7cb1fac",
   "metadata": {},
   "outputs": [],
   "source": []
  }
 ],
 "metadata": {
  "kernelspec": {
   "display_name": "Python 3 (ipykernel)",
   "language": "python",
   "name": "python3"
  },
  "language_info": {
   "codemirror_mode": {
    "name": "ipython",
    "version": 3
   },
   "file_extension": ".py",
   "mimetype": "text/x-python",
   "name": "python",
   "nbconvert_exporter": "python",
   "pygments_lexer": "ipython3",
   "version": "3.9.7"
  }
 },
 "nbformat": 4,
 "nbformat_minor": 5
}
