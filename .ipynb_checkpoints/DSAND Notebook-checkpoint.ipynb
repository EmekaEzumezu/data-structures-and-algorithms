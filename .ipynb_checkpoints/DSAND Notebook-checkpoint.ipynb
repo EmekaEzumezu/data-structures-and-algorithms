{
 "cells": [
  {
   "cell_type": "code",
   "execution_count": null,
   "id": "0ecd1f61",
   "metadata": {},
   "outputs": [],
   "source": [
    "def daysBetweenDates(year1, month1, day1, year2, month2, day2):\n",
    "    \"\"\"\n",
    "    Calculates the number of days between two dates.\n",
    "    \"\"\"\n",
    "\n",
    "    # TODO - by the end of this lesson you will have\n",
    "    #  completed this function. You do not need to complete\n",
    "    #  it yet though!\n",
    "\n",
    "    return\n",
    "\n",
    "\n",
    "daysBetweenDates(2017, 12, 30,  2018, 1,  1)"
   ]
  },
  {
   "cell_type": "code",
   "execution_count": null,
   "id": "97c09323",
   "metadata": {},
   "outputs": [],
   "source": []
  }
 ],
 "metadata": {
  "kernelspec": {
   "display_name": "Python 3 (ipykernel)",
   "language": "python",
   "name": "python3"
  },
  "language_info": {
   "codemirror_mode": {
    "name": "ipython",
    "version": 3
   },
   "file_extension": ".py",
   "mimetype": "text/x-python",
   "name": "python",
   "nbconvert_exporter": "python",
   "pygments_lexer": "ipython3",
   "version": "3.9.7"
  }
 },
 "nbformat": 4,
 "nbformat_minor": 5
}
