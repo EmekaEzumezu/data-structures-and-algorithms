{
 "cells": [
  {
   "cell_type": "markdown",
   "id": "3ebab150",
   "metadata": {},
   "source": [
    "# Task 0"
   ]
  },
  {
   "cell_type": "code",
   "execution_count": 18,
   "id": "ec4ed69f",
   "metadata": {},
   "outputs": [
    {
     "name": "stdout",
     "output_type": "stream",
     "text": [
      "(080)33251027 spent the longest time, 90456 seconds, on the phone during September 2016.\n"
     ]
    }
   ],
   "source": [
    "\"\"\"\n",
    "Read file into texts and calls.\n",
    "It's ok if you don't understand how to read files\n",
    "\"\"\"\n",
    "import csv\n",
    "with open('texts.csv', 'r') as f:\n",
    "    reader = csv.reader(f)\n",
    "    texts = list(reader)\n",
    "\n",
    "with open('calls.csv', 'r') as f:\n",
    "    reader = csv.reader(f)\n",
    "    calls = list(reader)\n",
    "\n",
    "\"\"\"\n",
    "TASK 2: Which telephone number spent the longest time on the phone\n",
    "during the period? Don't forget that time spent answering a call is\n",
    "also time spent on the phone.\n",
    "Print a message:\n",
    "\"<telephone number> spent the longest time, <total time> seconds, on the phone during \n",
    "September 2016.\".\n",
    "\"\"\"\n",
    "\n",
    "call_dict = {}\n",
    "for row in calls:\n",
    "    # Add caller's time making sure there are no duplicate numbers\n",
    "    if row[0] not in call_dict:\n",
    "        call_dict[row[0]] = int(row[3])\n",
    "    else:\n",
    "        call_dict[row[0]] += int(row[3])\n",
    "        \n",
    "    # Add receiver's time making sure there are no duplicate numbers\n",
    "    if row[1] not in call_dict:\n",
    "        call_dict[row[1]] = int(row[3])\n",
    "    else:\n",
    "        call_dict[row[1]] += int(row[3])\n",
    "\n",
    "    #call_dict.update({row[0] : row[3]})\n",
    "    #call_dict.update({row[1] : row[3]})\n",
    "    \n",
    "print(\"{} spent the longest time, {} seconds, on the phone during September 2016.\".format(\n",
    "max(call_dict, key=call_dict.get), max(call_dict.values())))\n",
    "#long_time\n",
    "#print(max(call_dict, key=call_dict.get))\n",
    "#print(max(call_dict.values()))\n"
   ]
  },
  {
   "cell_type": "code",
   "execution_count": 81,
   "id": "3a1f9bff",
   "metadata": {},
   "outputs": [
    {
     "name": "stdout",
     "output_type": "stream",
     "text": [
      "(080)33251027 spent the longest time, 90456 seconds, on the phone during September 2016.\n"
     ]
    }
   ],
   "source": [
    "calls_dict = {}  # O(1)\n",
    "\n",
    "for caller, reciever, timestamp, duration in calls:  # O(n)\n",
    "    # Calling telephone\n",
    "    if caller not in calls_dict:  # O(1)\n",
    "        calls_dict[caller] = int(duration)  # O(1)\n",
    "    else:\n",
    "        calls_dict[caller] += int(duration)  # O(1)\n",
    "\n",
    "    # Receiver telephone\n",
    "    if reciever not in calls_dict:  # O(1)\n",
    "        calls_dict[reciever] = int(duration)  # O(1)\n",
    "    else:\n",
    "        calls_dict[reciever] += int(duration)  # O(1)\n",
    "\n",
    "phone, time = (max(calls_dict.items(), key=lambda x: x[1]))  # O(n)\n",
    "print('%s spent the longest time, %s seconds, on the phone during'\n",
    "      ' September 2016.' % (phone, time))"
   ]
  },
  {
   "cell_type": "code",
   "execution_count": 3,
   "id": "52556511",
   "metadata": {},
   "outputs": [
    {
     "ename": "KeyError",
     "evalue": "'78130 00821'",
     "output_type": "error",
     "traceback": [
      "\u001b[0;31m---------------------------------------------------------------------------\u001b[0m",
      "\u001b[0;31mKeyError\u001b[0m                                  Traceback (most recent call last)",
      "\u001b[0;32m/tmp/ipykernel_7918/2166747763.py\u001b[0m in \u001b[0;36m<module>\u001b[0;34m\u001b[0m\n\u001b[1;32m      5\u001b[0m     \u001b[0;32mfor\u001b[0m \u001b[0mcall\u001b[0m \u001b[0;32min\u001b[0m \u001b[0mcalls\u001b[0m\u001b[0;34m:\u001b[0m\u001b[0;34m\u001b[0m\u001b[0;34m\u001b[0m\u001b[0m\n\u001b[1;32m      6\u001b[0m         \u001b[0;32mfor\u001b[0m \u001b[0mcall_element\u001b[0m \u001b[0;32min\u001b[0m \u001b[0;34m[\u001b[0m\u001b[0;36m0\u001b[0m\u001b[0;34m,\u001b[0m \u001b[0;36m1\u001b[0m\u001b[0;34m]\u001b[0m\u001b[0;34m:\u001b[0m\u001b[0;34m\u001b[0m\u001b[0;34m\u001b[0m\u001b[0m\n\u001b[0;32m----> 7\u001b[0;31m             \u001b[0mtelephone_time\u001b[0m\u001b[0;34m[\u001b[0m\u001b[0mcall\u001b[0m\u001b[0;34m[\u001b[0m\u001b[0mcall_element\u001b[0m\u001b[0;34m]\u001b[0m\u001b[0;34m]\u001b[0m \u001b[0;34m+=\u001b[0m \u001b[0mint\u001b[0m\u001b[0;34m(\u001b[0m\u001b[0mcall\u001b[0m\u001b[0;34m[\u001b[0m\u001b[0;36m3\u001b[0m\u001b[0;34m]\u001b[0m\u001b[0;34m)\u001b[0m\u001b[0;34m\u001b[0m\u001b[0;34m\u001b[0m\u001b[0m\n\u001b[0m\u001b[1;32m      8\u001b[0m \u001b[0;34m\u001b[0m\u001b[0m\n\u001b[1;32m      9\u001b[0m     \u001b[0mmax_call_time\u001b[0m \u001b[0;34m=\u001b[0m \u001b[0;36m0\u001b[0m\u001b[0;34m\u001b[0m\u001b[0;34m\u001b[0m\u001b[0m\n",
      "\u001b[0;31mKeyError\u001b[0m: '78130 00821'"
     ]
    }
   ],
   "source": [
    "from collections import defaultdict\n",
    "\n",
    "if __name__ == '__main__':\n",
    "    telephone_time = dict()\n",
    "    for call in calls:\n",
    "        for call_element in [0, 1]:\n",
    "            telephone_time[call[call_element]] += int(call[3])\n",
    "\n",
    "    max_call_time = 0\n",
    "    max_telephone_num = ''\n",
    "\n",
    "    for telephone in telephone_time:\n",
    "        if telephone_time[telephone] >= max_call_time:\n",
    "            max_call_time = telephone_time[telephone]\n",
    "            max_telephone_num = telephone\n",
    "\n",
    "    print(\"{} spent the longest time, {} seconds, on the phone during September 2016.\".format(\n",
    "        max_telephone_num, max_call_time))"
   ]
  },
  {
   "cell_type": "code",
   "execution_count": 4,
   "id": "da43108e",
   "metadata": {},
   "outputs": [
    {
     "name": "stdout",
     "output_type": "stream",
     "text": [
      "(080)33251027 spent the longest time, 90456 seconds, on the phone during September 2016.\n"
     ]
    }
   ],
   "source": [
    "from datetime import datetime\n",
    "\n",
    "def getByMonth(phoneCall, month, year):\n",
    "    timeStamp= phoneCall[2]\n",
    "    dt= datetime.strptime(timeStamp, '%d-%m-%Y %H:%M:%S')\n",
    "    if(dt.year==year and dt.month==month):\n",
    "        return True\n",
    "    else:\n",
    "        return False\n",
    "\n",
    "\n",
    "\n",
    "records= filter(lambda x: getByMonth(x,9,2016),calls)\n",
    "\n",
    "\n",
    "'''\n",
    "finding the total duration spent by a phone\n",
    "'''\n",
    "\n",
    "def trackDuration(dictionary, phoneNumber, duration):\n",
    "    if(dictionary.get(phoneNumber)==None):\n",
    "        dictionary[phoneNumber]= int(duration)\n",
    "    else:\n",
    "        dictionary[phoneNumber] = dictionary.get(phoneNumber)+ int(duration)\n",
    "\n",
    "    return dictionary\n",
    "\n",
    "\n",
    "dictionary={}\n",
    "\n",
    "for record in records:\n",
    "    outgoingNumber=record[0]\n",
    "    incomingNumber=record[1]\n",
    "    timeStamp=record[2]\n",
    "    duration=record[3]\n",
    "\n",
    "    dictionary= trackDuration(dictionary,outgoingNumber,duration)\n",
    "    dictionary= trackDuration(dictionary, incomingNumber,duration)\n",
    "\n",
    "\n",
    "'''\n",
    "get the details for the phone number that spent most time on phone during september 2016\n",
    "'''\n",
    "\n",
    "phoneMax = max(dictionary.items(), key=lambda x: int(x[1]))\n",
    "\n",
    "print(f\"{phoneMax[0]} spent the longest time, {phoneMax[1]} seconds, on the phone during September 2016.\")\n"
   ]
  },
  {
   "cell_type": "code",
   "execution_count": 12,
   "id": "86e230af",
   "metadata": {},
   "outputs": [
    {
     "name": "stdout",
     "output_type": "stream",
     "text": [
      "(080)33251027\n",
      "90456\n"
     ]
    }
   ],
   "source": [
    "\"\"\"\n",
    "Read file into texts and calls.\n",
    "It's ok if you don't understand how to read files\n",
    "\"\"\"\n",
    "import csv\n",
    "with open('texts.csv', 'r') as f:\n",
    "    reader = csv.reader(f)\n",
    "    texts = list(reader)\n",
    "\n",
    "with open('calls.csv', 'r') as f:\n",
    "    reader = csv.reader(f)\n",
    "    calls = list(reader)\n",
    "\n",
    "\"\"\"\n",
    "TASK 2: Which telephone number spent the longest time on the phone\n",
    "during the period? Don't forget that time spent answering a call is\n",
    "also time spent on the phone.\n",
    "Print a message:\n",
    "\"<telephone number> spent the longest time, <total time> seconds, on the phone during \n",
    "September 2016.\".\n",
    "\"\"\"\n",
    "\n",
    "\n",
    "call_dict = {}\n",
    "for row in calls:\n",
    "    # Add caller's time making sure there are no duplicate numbers\n",
    "    if row[0] not in call_dict:\n",
    "        call_dict[row[0]] = int(row[3])\n",
    "    else:\n",
    "        call_dict[row[0]] += int(row[3])\n",
    "        \n",
    "    # Add receiver's time making sure there are no duplicate numbers\n",
    "    if row[1] not in call_dict:\n",
    "        call_dict[row[1]] = int(row[3])\n",
    "    else:\n",
    "        call_dict[row[1]] += int(row[3])\n",
    "\n",
    "    #diction.update({row[0] : row[0]})\n",
    "    #diction.update({row[1] : row[0]})\n",
    "    \n",
    "#long_time\n",
    "print(max(call_dict, key=call_dict.get))\n",
    "print(max(call_dict.values()))"
   ]
  },
  {
   "cell_type": "code",
   "execution_count": 78,
   "id": "93954683",
   "metadata": {},
   "outputs": [
    {
     "name": "stdout",
     "output_type": "stream",
     "text": [
      "['97424 22395', '90365 06212', '01-09-2016 06:03:22']\n"
     ]
    }
   ],
   "source": [
    "print(texts[0])"
   ]
  },
  {
   "cell_type": "code",
   "execution_count": 11,
   "id": "797a7762",
   "metadata": {},
   "outputs": [
    {
     "name": "stdout",
     "output_type": "stream",
     "text": [
      "[['78130 00821', '98453 94494', '01-09-2016 06:01:12', '186'], ['78298 91466', '(022)28952819', '01-09-2016 06:01:59', '2093'], ['97424 22395', '(022)47410783', '01-09-2016 06:03:51', '1975'], ['93427 40118', '(080)33118033', '01-09-2016 06:11:23', '1156'], ['90087 42537', '(080)35121497', '01-09-2016 06:17:26', '573'], ['97427 87999', '(04344)322628', '01-09-2016 06:19:28', '2751']]\n"
     ]
    }
   ],
   "source": [
    "print(calls[:6])"
   ]
  },
  {
   "cell_type": "code",
   "execution_count": 104,
   "id": "218ba637",
   "metadata": {},
   "outputs": [],
   "source": [
    "times = [row[3] for row in calls]"
   ]
  },
  {
   "cell_type": "code",
   "execution_count": 115,
   "id": "7681643d",
   "metadata": {},
   "outputs": [],
   "source": [
    "# get first get the index of the maximum time\n",
    "max_ind = times.index(max(times))"
   ]
  },
  {
   "cell_type": "code",
   "execution_count": 116,
   "id": "577e609c",
   "metadata": {},
   "outputs": [
    {
     "name": "stdout",
     "output_type": "stream",
     "text": [
      "['90085 20915', '99002 80226', '12-09-2016 11:29:13', '999']\n"
     ]
    }
   ],
   "source": [
    "# get the row/item with maximum time\n",
    "print(calls[max_ind])"
   ]
  },
  {
   "cell_type": "code",
   "execution_count": null,
   "id": "bdc276e3",
   "metadata": {},
   "outputs": [],
   "source": []
  }
 ],
 "metadata": {
  "kernelspec": {
   "display_name": "Python 3 (ipykernel)",
   "language": "python",
   "name": "python3"
  },
  "language_info": {
   "codemirror_mode": {
    "name": "ipython",
    "version": 3
   },
   "file_extension": ".py",
   "mimetype": "text/x-python",
   "name": "python",
   "nbconvert_exporter": "python",
   "pygments_lexer": "ipython3",
   "version": "3.9.7"
  }
 },
 "nbformat": 4,
 "nbformat_minor": 5
}
