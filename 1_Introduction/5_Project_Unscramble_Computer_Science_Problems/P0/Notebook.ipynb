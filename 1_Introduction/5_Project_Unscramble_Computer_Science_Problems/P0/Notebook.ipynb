{
 "cells": [
  {
   "cell_type": "markdown",
   "id": "3ebab150",
   "metadata": {},
   "source": [
    "# Task 0"
   ]
  },
  {
   "cell_type": "code",
   "execution_count": 105,
   "id": "ec4ed69f",
   "metadata": {},
   "outputs": [
    {
     "name": "stdout",
     "output_type": "stream",
     "text": [
      "These numbers could be telemarketers: \n",
      "(022)37572285\n",
      "(022)65548497\n",
      "(022)68535788\n",
      "(022)69042431\n",
      "(040)30429041\n",
      "(044)22020822\n",
      "(0471)2171438\n",
      "(0471)6579079\n",
      "(080)20383942\n",
      "(080)25820765\n",
      "(080)31606520\n",
      "(080)40362016\n",
      "(080)60463379\n",
      "(080)60998034\n",
      "(080)62963633\n",
      "(080)64015211\n",
      "(080)69887826\n",
      "(0821)3257740\n",
      "1400481538\n",
      "1401747654\n",
      "1402316533\n",
      "1403072432\n",
      "1403579926\n",
      "1404073047\n",
      "1404368883\n",
      "1404787681\n",
      "1407539117\n",
      "1408371942\n",
      "1408409918\n",
      "1408672243\n",
      "1409421631\n",
      "1409668775\n",
      "1409994233\n",
      "74064 66270\n",
      "78291 94593\n",
      "87144 55014\n",
      "90351 90193\n",
      "92414 69419\n",
      "94495 03761\n",
      "97404 30456\n",
      "97407 84573\n",
      "97442 45192\n",
      "99617 25274\n"
     ]
    }
   ],
   "source": [
    "\"\"\"\n",
    "Read file into texts and calls.\n",
    "It's ok if you don't understand how to read files.\n",
    "\"\"\"\n",
    "import csv\n",
    "\n",
    "with open('texts.csv', 'r') as f:\n",
    "    reader = csv.reader(f)\n",
    "    texts = list(reader)\n",
    "\n",
    "with open('calls.csv', 'r') as f:\n",
    "    reader = csv.reader(f)\n",
    "    calls = list(reader)\n",
    "\n",
    "\"\"\"\n",
    "TASK 4:\n",
    "The telephone company want to identify numbers that might be doing\n",
    "telephone marketing. Create a set of possible telemarketers:\n",
    "these are numbers that make outgoing calls but never send texts,\n",
    "receive texts or receive incoming calls.\n",
    "\n",
    "Print a message:\n",
    "\"These numbers could be telemarketers: \"\n",
    "<list of numbers>\n",
    "The list of numbers should be print out one per line in lexicographic order with no duplicates.\n",
    "\"\"\"\n",
    "\n",
    "send_call = set(call[0] for call in calls)\n",
    "receive_call = set(call[1] for call in calls)\n",
    "send_text = set(text[0] for text in texts)\n",
    "receive_text = set(text[1] for text in texts)\n",
    "\n",
    "if __name__ == '__main__':\n",
    "\n",
    "    tele_mkt = set()\n",
    "    for call in send_call:\n",
    "        if call not in receive_call and call not in send_text and call not in receive_text:\n",
    "            tele_mkt.add(call)\n",
    "    print(\"These numbers could be telemarketers: \")\n",
    "    for mk in sorted(tele_mkt):\n",
    "        print(mk)"
   ]
  },
  {
   "cell_type": "code",
   "execution_count": null,
   "id": "b0d77ced",
   "metadata": {},
   "outputs": [],
   "source": []
  },
  {
   "cell_type": "code",
   "execution_count": 91,
   "id": "bb128921",
   "metadata": {},
   "outputs": [
    {
     "name": "stdout",
     "output_type": "stream",
     "text": [
      "\n",
      " These numbers could be telemarketers:\n",
      "(022)37572285\n",
      "(022)65548497\n",
      "(022)68535788\n",
      "(022)69042431\n",
      "(040)30429041\n",
      "(044)22020822\n",
      "(0471)2171438\n",
      "(0471)6579079\n",
      "(080)20383942\n",
      "(080)25820765\n",
      "(080)31606520\n",
      "(080)40362016\n",
      "(080)60463379\n",
      "(080)60998034\n",
      "(080)62963633\n",
      "(080)64015211\n",
      "(080)69887826\n",
      "(0821)3257740\n",
      "1400481538\n",
      "1401747654\n",
      "1402316533\n",
      "1403072432\n",
      "1403579926\n",
      "1404073047\n",
      "1404368883\n",
      "1404787681\n",
      "1407539117\n",
      "1408371942\n",
      "1408409918\n",
      "1408672243\n",
      "1409421631\n",
      "1409668775\n",
      "1409994233\n",
      "74064 66270\n",
      "78291 94593\n",
      "87144 55014\n",
      "90351 90193\n",
      "92414 69419\n",
      "94495 03761\n",
      "97404 30456\n",
      "97407 84573\n",
      "97442 45192\n",
      "99617 25274\n"
     ]
    }
   ],
   "source": [
    "if __name__ == '__main__':\n",
    "    call_senders = set([data[0] for data in calls])\n",
    "    call_receivers = set([data[1] for data in calls])\n",
    "    message_senders = set([data[0] for data in texts])\n",
    "    message_receivers = set([data[1] for data in texts])\n",
    "\n",
    "    call_senders_susp = []\n",
    "\n",
    "    for call_sender in call_senders:\n",
    "        if (call_sender not in call_receivers and call_sender not in message_senders and\n",
    "                call_sender not in message_receivers):\n",
    "            call_senders_susp.append(call_sender)\n",
    "\n",
    "    call_senders_susp.sort()\n",
    "\n",
    "    print(\"\\n These numbers could be telemarketers:\")\n",
    "    for call_senser_susp in call_senders_susp:\n",
    "        print(call_senser_susp)"
   ]
  },
  {
   "cell_type": "code",
   "execution_count": 88,
   "id": "589e9c66",
   "metadata": {},
   "outputs": [
    {
     "name": "stdout",
     "output_type": "stream",
     "text": [
      "1400481538\n",
      "1401747654\n",
      "1402316533\n",
      "1403072432\n",
      "1403579926\n",
      "1404073047\n",
      "1404368883\n",
      "1404787681\n",
      "1407539117\n",
      "1408371942\n",
      "1408409918\n",
      "1408672243\n",
      "1409421631\n",
      "1409668775\n",
      "1409994233\n"
     ]
    }
   ],
   "source": [
    "# TASK 4:\n",
    "# The telephone company want to identify numbers that might be doing\n",
    "# telephone marketing. Create a set of possible telemarketers:\n",
    "# these are numbers that make outgoing calls but never send texts,\n",
    "# receive texts or receive incoming calls.\n",
    "\n",
    "\n",
    "\n",
    "tele_mkt = set()\n",
    "for call in calls:\n",
    "    # adding Telemarketers numbers\n",
    "    if call[0][:3] == \"140\":\n",
    "        tele_mkt.add(call[0])\n",
    "        \n",
    "for num in sorted(tele_mkt):\n",
    "    print(num)"
   ]
  },
  {
   "cell_type": "code",
   "execution_count": 78,
   "id": "93954683",
   "metadata": {},
   "outputs": [
    {
     "name": "stdout",
     "output_type": "stream",
     "text": [
      "['97424 22395', '90365 06212', '01-09-2016 06:03:22']\n"
     ]
    }
   ],
   "source": [
    "print(texts[0])"
   ]
  },
  {
   "cell_type": "code",
   "execution_count": 3,
   "id": "797a7762",
   "metadata": {},
   "outputs": [
    {
     "name": "stdout",
     "output_type": "stream",
     "text": [
      "['78130 00821', '98453 94494', '01-09-2016 06:01:12', '186']\n"
     ]
    }
   ],
   "source": [
    "print(calls[0])"
   ]
  },
  {
   "cell_type": "code",
   "execution_count": null,
   "id": "bdc276e3",
   "metadata": {},
   "outputs": [],
   "source": []
  },
  {
   "cell_type": "code",
   "execution_count": null,
   "id": "ce99fbaf",
   "metadata": {},
   "outputs": [],
   "source": []
  }
 ],
 "metadata": {
  "kernelspec": {
   "display_name": "Python 3 (ipykernel)",
   "language": "python",
   "name": "python3"
  },
  "language_info": {
   "codemirror_mode": {
    "name": "ipython",
    "version": 3
   },
   "file_extension": ".py",
   "mimetype": "text/x-python",
   "name": "python",
   "nbconvert_exporter": "python",
   "pygments_lexer": "ipython3",
   "version": "3.9.7"
  }
 },
 "nbformat": 4,
 "nbformat_minor": 5
}
