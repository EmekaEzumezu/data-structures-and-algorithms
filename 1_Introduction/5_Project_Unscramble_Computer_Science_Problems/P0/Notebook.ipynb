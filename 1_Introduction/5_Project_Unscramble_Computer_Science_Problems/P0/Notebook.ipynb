{
 "cells": [
  {
   "cell_type": "markdown",
   "id": "3ebab150",
   "metadata": {},
   "source": [
    "# Task 0"
   ]
  },
  {
   "cell_type": "code",
   "execution_count": 27,
   "id": "ec4ed69f",
   "metadata": {},
   "outputs": [
    {
     "name": "stdout",
     "output_type": "stream",
     "text": [
      "First record of texts, 97424 22395 texts 90365 06212 at time 01-09-2016 06:03:22\n",
      "Last record of calls, 98447 62998 calls (080)46304537 at time 30-09-2016 23:57:15, lasting 2151 seconds\n"
     ]
    }
   ],
   "source": [
    "\"\"\"\n",
    "Read file into texts and calls.\n",
    "It's ok if you don't understand how to read files.\n",
    "\"\"\"\n",
    "import csv\n",
    "with open('texts.csv', 'r') as f:\n",
    "    reader = csv.reader(f)\n",
    "    texts = list(reader)\n",
    "\n",
    "with open('calls.csv', 'r') as f:\n",
    "    reader = csv.reader(f)\n",
    "    calls = list(reader)\n",
    "\n",
    "\n",
    "\"\"\"\n",
    "TASK 0:\n",
    "What is the first record of texts and what is the last record of calls?\n",
    "Print messages:\n",
    "\"First record of texts, <incoming number> texts <answering number> at time <time>\"\n",
    "\"Last record of calls, <incoming number> calls <answering number> at time <time>, lasting <during> seconds\"\n",
    "\"\"\"\n",
    "\n",
    "print(\"First record of texts, \" + texts[0][0] + \" texts \" + texts[0][1] + \" at time \" + texts[0][2])\n",
    "print(\"Last record of calls, \" + calls[-1][0] + \" calls \" + calls[-1][1] + \" at time \" + calls[-1][2] +\", lasting \" + calls[-1][3] + \" seconds\")"
   ]
  },
  {
   "cell_type": "code",
   "execution_count": null,
   "id": "683a6e77",
   "metadata": {},
   "outputs": [],
   "source": []
  }
 ],
 "metadata": {
  "kernelspec": {
   "display_name": "Python 3 (ipykernel)",
   "language": "python",
   "name": "python3"
  },
  "language_info": {
   "codemirror_mode": {
    "name": "ipython",
    "version": 3
   },
   "file_extension": ".py",
   "mimetype": "text/x-python",
   "name": "python",
   "nbconvert_exporter": "python",
   "pygments_lexer": "ipython3",
   "version": "3.9.7"
  }
 },
 "nbformat": 4,
 "nbformat_minor": 5
}
