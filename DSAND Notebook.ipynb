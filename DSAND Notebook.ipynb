{
 "cells": [
  {
   "cell_type": "code",
   "execution_count": 87,
   "id": "889e8959",
   "metadata": {},
   "outputs": [
    {
     "data": {
      "text/plain": [
       "55"
      ]
     },
     "execution_count": 87,
     "metadata": {},
     "output_type": "execute_result"
    }
   ],
   "source": [
    "def main(x,y):\n",
    "    \n",
    "    if True:\n",
    "        z = x + y\n",
    "    for i in range(10):\n",
    "        z+=i\n",
    "        \n",
    "    return z\n",
    "\n",
    "main(5, 5)"
   ]
  },
  {
   "cell_type": "code",
   "execution_count": 85,
   "id": "0ecd1f61",
   "metadata": {},
   "outputs": [
    {
     "name": "stdout",
     "output_type": "stream",
     "text": [
      "Test case passed!\n",
      "Test case passed!\n",
      "Test case passed!\n",
      "Test case passed!\n",
      "Test case passed!\n"
     ]
    }
   ],
   "source": [
    "# Credit goes to Websten from forums\n",
    "#\n",
    "# Use Dave's suggestions to finish your daysBetweenDates\n",
    "# procedure. It will need to take into account leap years\n",
    "# in addition to the correct number of days in each month.\n",
    "\n",
    "def isLeapYear(year):\n",
    "    if year % 4 == 0 and year % 100 != 0:\n",
    "        return True\n",
    "    if year % 100 == 0 and year % 400 == 0:\n",
    "        return True\n",
    "    return False\n",
    "\n",
    "def daysInMonth(year, month):\n",
    "    days = [31, 28, 31, 30, 31, 30, 31, 31, 30, 31, 30, 31]\n",
    "\n",
    "    if isLeapYear(year):\n",
    "        days[1] += 1\n",
    "\n",
    "    return days[month - 1]\n",
    "\n",
    "def nextDay(year, month, day):\n",
    "    \"\"\"Simple version: assume every month has 30 days\"\"\"\n",
    "    \n",
    "    days = daysInMonth(year, month)\n",
    "    \n",
    "    if day < days:\n",
    "        return year, month, day + 1\n",
    "    else:\n",
    "        if month == 12:\n",
    "            return year + 1, 1, 1\n",
    "        else:\n",
    "            return year, month + 1, 1\n",
    "        \n",
    "def dateIsBefore(year1, month1, day1, year2, month2, day2):\n",
    "    \"\"\"Returns True if year1-month1-day1 is before year2-month2-day2. Otherwise, returns False.\"\"\"\n",
    "    if year1 < year2:\n",
    "        return True\n",
    "    if year1 == year2:\n",
    "        if month1 < month2:\n",
    "            return True\n",
    "        if month1 == month2:\n",
    "            return day1 < day2\n",
    "    return False        \n",
    "\n",
    "def daysBetweenDates(year1, month1, day1, year2, month2, day2):\n",
    "    \"\"\"Returns the number of days between year1/month1/day1\n",
    "       and year2/month2/day2. Assumes inputs are valid dates\n",
    "       in Gregorian calendar.\"\"\"\n",
    "    # program defensively! Add an assertion if the input is not valid!\n",
    "    assert not dateIsBefore(year2, month2, day2, year1, month1, day1)\n",
    "    days = 0\n",
    "    while dateIsBefore(year1, month1, day1, year2, month2, day2):\n",
    "        year1, month1, day1 = nextDay(year1, month1, day1)\n",
    "        days += 1\n",
    "    return days\n",
    "\n",
    "def test():\n",
    "    test_cases = [((2012,1,1,2012,2,28), 58), \n",
    "                  ((2012,1,1,2012,3,1), 60),\n",
    "                  ((2011,6,30,2012,6,30), 366),\n",
    "                  ((2011,1,1,2012,8,8), 585 ),\n",
    "                  ((1900,1,1,1999,12,31), 36523)]\n",
    "    \n",
    "    for (args, answer) in test_cases:\n",
    "        result = daysBetweenDates(*args)\n",
    "        if result != answer:\n",
    "            print(\"Test with data:\", args, \"failed\")\n",
    "        else:\n",
    "            print (\"Test case passed!\")\n",
    "\n",
    "test()"
   ]
  },
  {
   "cell_type": "code",
   "execution_count": null,
   "id": "77992e84",
   "metadata": {},
   "outputs": [],
   "source": []
  }
 ],
 "metadata": {
  "kernelspec": {
   "display_name": "Python 3 (ipykernel)",
   "language": "python",
   "name": "python3"
  },
  "language_info": {
   "codemirror_mode": {
    "name": "ipython",
    "version": 3
   },
   "file_extension": ".py",
   "mimetype": "text/x-python",
   "name": "python",
   "nbconvert_exporter": "python",
   "pygments_lexer": "ipython3",
   "version": "3.9.7"
  }
 },
 "nbformat": 4,
 "nbformat_minor": 5
}
