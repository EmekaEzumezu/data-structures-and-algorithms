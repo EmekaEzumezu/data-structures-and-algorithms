{
 "cells": [
  {
   "cell_type": "code",
   "execution_count": 109,
   "id": "dcd46ead",
   "metadata": {},
   "outputs": [
    {
     "name": "stdout",
     "output_type": "stream",
     "text": [
      "False\n",
      "True\n",
      "False\n",
      "False\n",
      "False\n",
      "False\n"
     ]
    }
   ],
   "source": [
    "correct = [[1,2,3],\n",
    "           [2,3,1],\n",
    "           [3,1,2]]\n",
    "\n",
    "incorrect = [[1,2,3,4],\n",
    "             [2,3,1,3],\n",
    "             [3,1,2,3],\n",
    "             [4,4,4,4]]\n",
    "\n",
    "incorrect2 = [[1,2,3,4],\n",
    "             [2,3,1,4],\n",
    "             [4,1,2,3],\n",
    "             [3,4,1,2]]\n",
    "\n",
    "incorrect3 = [[1,2,3,4,5],\n",
    "              [2,3,1,5,6],\n",
    "              [4,5,2,1,3],\n",
    "              [3,4,5,2,1],\n",
    "              [5,6,4,3,2]]\n",
    "\n",
    "incorrect4 = [['a','b','c'],\n",
    "              ['b','c','a'],\n",
    "              ['c','a','b']]\n",
    "\n",
    "incorrect5 = [ [1, 1.5],\n",
    "               [1.5, 1]]\n",
    "               \n",
    "# Define a function check_sudoku() here:\n",
    "def array(num):\n",
    "    return [i for i in range(1, num+1)]\n",
    "\n",
    "def check_sudoku(square_list):\n",
    "    inx = 0\n",
    "    # each row\n",
    "    for i in range(1, len(square_list)+1):\n",
    "        doub = []\n",
    "\n",
    "        # each item in the row\n",
    "        for i in range(len(square_list)):\n",
    "            if not square_list[inx][i] in array(len(square_list)) or square_list[inx][i] in doub:\n",
    "                return False\n",
    "            doub.append(square_list[inx][i])\n",
    "\n",
    "        inx += 1\n",
    "\n",
    "\n",
    "    inx = 0\n",
    "    # each column\n",
    "    for i in range(1, len(square_list)+1):\n",
    "        doub = []\n",
    "\n",
    "        # each item in the column\n",
    "        for i in range(len(square_list)):\n",
    "            if not square_list[i][inx] in array(len(square_list)) or square_list[i][inx] in doub:\n",
    "                return False\n",
    "            doub.append(square_list[i][inx])\n",
    "\n",
    "        inx += 1\n",
    "    return True\n",
    "\n",
    "\n",
    "    \n",
    "    \n",
    "print(check_sudoku(incorrect))\n",
    "#>>> False\n",
    "\n",
    "print(check_sudoku(correct))\n",
    "#>>> True\n",
    "\n",
    "print(check_sudoku(incorrect2))\n",
    "#>>> False\n",
    "\n",
    "print(check_sudoku(incorrect3))\n",
    "#>>> False\n",
    "\n",
    "print(check_sudoku(incorrect4))\n",
    "#>>> False\n",
    "\n",
    "print(check_sudoku(incorrect5))\n",
    "#>>> False"
   ]
  },
  {
   "cell_type": "code",
   "execution_count": 97,
   "id": "2ca4750b",
   "metadata": {},
   "outputs": [
    {
     "name": "stdout",
     "output_type": "stream",
     "text": [
      "1\n",
      "false\n",
      "4\n",
      "false\n"
     ]
    }
   ],
   "source": [
    "\n",
    "\n",
    "correct = [[1,2,3,4],\n",
    "           [2,3,1,4],\n",
    "           [4,1,2,3],\n",
    "           [3,4,1,2]]\n",
    "\n",
    "def array(num):\n",
    "    return [i for i in range(1, num+1)]\n",
    "\n",
    "inx = 0\n",
    "# each row\n",
    "for i in range(1, len(correct)+1):\n",
    "    doub = []\n",
    "    \n",
    "    # each item in the row\n",
    "    for i in range(len(correct)):\n",
    "        if not correct[inx][i] in array(len(correct)) or correct[inx][i] in doub:\n",
    "            print(correct[inx][i])\n",
    "            print(\"false\")\n",
    "        doub.append(correct[inx][i])\n",
    "        \n",
    "    inx += 1\n",
    "\n",
    "    \n",
    "inx = 0\n",
    "# each column\n",
    "for i in range(1, len(correct)+1):\n",
    "    doub = []\n",
    "    \n",
    "    # each item in the column\n",
    "    for i in range(len(correct)):\n",
    "        if not correct[i][inx] in array(len(correct)) or correct[i][inx] in doub:\n",
    "            print(correct[i][inx])\n",
    "            print(\"false\")\n",
    "        doub.append(correct[i][inx])\n",
    "        \n",
    "    inx += 1\n",
    "#print(len(correct[0])**2)"
   ]
  },
  {
   "cell_type": "code",
   "execution_count": 77,
   "id": "6573f84a",
   "metadata": {},
   "outputs": [
    {
     "name": "stdout",
     "output_type": "stream",
     "text": [
      "1\n",
      "true\n",
      "2\n",
      "true\n",
      "3\n",
      "true\n",
      "2\n",
      "true\n",
      "3\n",
      "true\n",
      "1\n",
      "true\n",
      "3\n",
      "true\n",
      "1\n",
      "true\n",
      "2\n",
      "true\n"
     ]
    }
   ],
   "source": [
    "correct = [[1,2,3],\n",
    "           [2,3,1],\n",
    "           [3,1,2]]\n",
    "\n",
    "def array(num):\n",
    "    return [i for i in range(1, num+1)]\n",
    "\n",
    "inx = 0\n",
    "for i in range(1, len(correct)+1):\n",
    "    for i in range(len(correct)):\n",
    "        if correct[i][inx] in array(len(correct)):\n",
    "            print(correct[i][inx])\n",
    "            print(\"true\")\n",
    "    inx += 1\n",
    "\n",
    "#print(len(correct[0])**2)"
   ]
  },
  {
   "cell_type": "code",
   "execution_count": 76,
   "id": "7d3604ee",
   "metadata": {},
   "outputs": [
    {
     "name": "stdout",
     "output_type": "stream",
     "text": [
      "[1, 2, 3, 4, 5]\n"
     ]
    }
   ],
   "source": [
    "print(array(5))"
   ]
  },
  {
   "cell_type": "code",
   "execution_count": null,
   "id": "bff9b6a1",
   "metadata": {},
   "outputs": [],
   "source": []
  }
 ],
 "metadata": {
  "kernelspec": {
   "display_name": "Python 3 (ipykernel)",
   "language": "python",
   "name": "python3"
  },
  "language_info": {
   "codemirror_mode": {
    "name": "ipython",
    "version": 3
   },
   "file_extension": ".py",
   "mimetype": "text/x-python",
   "name": "python",
   "nbconvert_exporter": "python",
   "pygments_lexer": "ipython3",
   "version": "3.9.7"
  }
 },
 "nbformat": 4,
 "nbformat_minor": 5
}
