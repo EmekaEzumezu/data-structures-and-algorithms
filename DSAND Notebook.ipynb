{
 "cells": [
  {
   "cell_type": "code",
   "execution_count": 295,
   "id": "6053ce84",
   "metadata": {},
   "outputs": [
    {
     "name": "stdout",
     "output_type": "stream",
     "text": [
      "{'Michael': 11, 'Andrew': 13, 'Joseph': 25, 'Lisa': 37, 'Dusty': 53, 'Erica': 72, 'Carol': 36, 'Robert': 89, 'Lawrence': 87, 'Margaret': 35}\n",
      "August\n"
     ]
    }
   ],
   "source": [
    "class Person:\n",
    "    def __init__(self, name, age, month):\n",
    "        self.name = name\n",
    "        self.age = age\n",
    "        self.birthday_month = month\n",
    "        \n",
    "    def birthday(self):\n",
    "        self.age += 1\n",
    "\n",
    "def create_person_objects(names, ages, months):\n",
    "    my_data = zip(names, ages, months)\n",
    "    person_objects = []\n",
    "    for item in my_data:\n",
    "        person_objects.append(Person(*item))\n",
    "    return person_objects\n",
    "\n",
    "def get_april_birthdays(people):\n",
    "    # TODO:\n",
    "    # Increment \"age\" for all people with birthdays in April.\n",
    "    # Return a dictionary \"april_birthdays\" with the names of\n",
    "    # all people with April birthdays as keys, and their updated ages \n",
    "    # as values. See the test below for an example expected output.\n",
    "    \n",
    "    #april_birthdays = {}\n",
    "    #for ind in people:\n",
    "        #if ind.birthday_month == \"April\":\n",
    "            #april_birthdays[ind.name] = ind.age+1\n",
    "            \n",
    "    #return april_birthdays\n",
    "    \n",
    "    # TODO: Modify the return statement \n",
    "    return {ind.name : ind.age+1 for ind in people if ind.birthday_month == \"April\"}\n",
    "\n",
    "def get_most_common_month(people):\n",
    "    # TODO:\n",
    "    # Use the \"months\" dictionary to record counts of birthday months\n",
    "    # for persons in the \"people\" data.\n",
    "    # Return the month with the largest number of birthdays.\n",
    "    months = {'January':0, 'February':0, 'March':0, 'April':0, 'May':0, \n",
    "              'June':0, 'July':0, 'August':0, 'September':0, 'October':0,\n",
    "              'November':0, 'December':0}\n",
    "    \n",
    "    # TODO: Modify the return statement.\n",
    "    for person in people:\n",
    "        months[person.birthday_month] += 1\n",
    "    \n",
    "    max_month = None\n",
    "    max_value = 0\n",
    "    for month in months.keys():\n",
    "        if months[month] > max_value:\n",
    "            max_value = months[month]\n",
    "            max_month = month\n",
    "\n",
    "    return max_month\n",
    "\n",
    "\n",
    "def test():\n",
    "    # Here is the data for the test. Assume there is a single most common month.\n",
    "    names = ['Howard', 'Richard', 'Jules', 'Trula', 'Michael', 'Elizabeth', 'Richard', 'Shirley', 'Mark', 'Brianna', 'Kenneth', 'Gwen', 'William', 'Rosa', 'Denver', 'Shelly', 'Sammy', 'Maryann', 'Kathleen', 'Andrew', 'Joseph', 'Kathleen', 'Lisa', 'Viola', 'George', 'Bonnie', 'Robert', 'William', 'Sabrina', 'John', 'Robert', 'Gil', 'Calvin', 'Robert', 'Dusty', 'Dario', 'Joeann', 'Terry', 'Alan', 'Rosa', 'Jeane', 'James', 'Rachel', 'Tu', 'Chelsea', 'Andrea', 'Ernest', 'Erica', 'Priscilla', 'Carol', 'Michael', 'Dale', 'Arthur', 'Helen', 'James', 'Donna', 'Patricia', 'Betty', 'Patricia', 'Mollie', 'Nicole', 'Ernest', 'Wendy', 'Graciela', 'Teresa', 'Nicole', 'Trang', 'Caleb', 'Robert', 'Paul', 'Nieves', 'Arleen', 'Milton', 'James', 'Lawrence', 'Edward', 'Susan', 'Patricia', 'Tana', 'Jessica', 'Suzanne', 'Darren', 'Arthur', 'Holly', 'Mary', 'Randal', 'John', 'Laura', 'Betty', 'Chelsea', 'Margaret', 'Angel', 'Jeffrey', 'Mary', 'Donald', 'David', 'Roger', 'Evan', 'Danny', 'William']\n",
    "    ages  = [17, 58, 79, 8, 10, 57, 4, 98, 19, 47, 81, 68, 48, 13, 39, 21, 98, 51, 49, 12, 24, 78, 36, 59, 3, 87, 94, 85, 43, 69, 15, 52, 57, 36, 52, 5, 52, 5, 33, 10, 71, 28, 70, 9, 25, 28, 76, 71, 22, 35, 35, 100, 9, 95, 69, 52, 66, 91, 39, 84, 65, 29, 20, 98, 30, 83, 30, 15, 88, 89, 24, 98, 62, 94, 86, 63, 34, 23, 23, 19, 10, 80, 88, 67, 17, 91, 85, 97, 29, 7, 34, 38, 92, 29, 14, 52, 94, 62, 70, 22]\n",
    "    months = ['January', 'March', 'January', 'October', 'April', 'February', 'August', 'January', 'June', 'August', 'February', 'May', 'March', 'June', 'February', 'August', 'June', 'March', 'August', 'April', 'April', 'June', 'April', 'June', 'February', 'September', 'March', 'July', 'September', 'December', 'June', 'June', 'August', 'November', 'April', 'November', 'August', 'June', 'January', 'August', 'May', 'March', 'March', 'March', 'May', 'September', 'August', 'April', 'February', 'April', 'May', 'March', 'March', 'January', 'August', 'October', 'February', 'November', 'August', 'June', 'September', 'September', 'January', 'September', 'July', 'July', 'December', 'June', 'April', 'February', 'August', 'September', 'August', 'February', 'April', 'July', 'May', 'November', 'December', 'February', 'August', 'August', 'September', 'December', 'February', 'March', 'June', 'December', 'February', 'May', 'April', 'July', 'March', 'June', 'December', 'March', 'July', 'May', 'September', 'November']\n",
    "    people = create_person_objects(names, ages, months)\n",
    "\n",
    "    # Calls to the two functions you have completed.\n",
    "    print(get_april_birthdays(people))\n",
    "    print(get_most_common_month(people))\n",
    "\n",
    "\n",
    "\n",
    "test()\n",
    "# Expected result:\n",
    "# {'Michael': 11, 'Erica': 72, 'Carol': 36, 'Lisa': 37, 'Lawrence': 87, 'Joseph': 25, 'Margaret': 35, 'Andrew': 13, 'Dusty': 53, 'Robert': 89}\n",
    "# August"
   ]
  },
  {
   "cell_type": "code",
   "execution_count": null,
   "id": "033cfc7b",
   "metadata": {},
   "outputs": [],
   "source": []
  },
  {
   "cell_type": "code",
   "execution_count": 235,
   "id": "5a47cad8",
   "metadata": {},
   "outputs": [
    {
     "name": "stdout",
     "output_type": "stream",
     "text": [
      "[('Howard', 17, 'January'), ('Richard', 58, 'March'), ('Jules', 79, 'January'), ('Trula', 8, 'October'), ('Michael', 10, 'April'), ('Elizabeth', 57, 'February'), ('Richard', 4, 'August'), ('Shirley', 98, 'January'), ('Mark', 19, 'June'), ('Brianna', 47, 'August'), ('Kenneth', 81, 'February'), ('Gwen', 68, 'May'), ('William', 48, 'March'), ('Rosa', 13, 'June'), ('Denver', 39, 'February'), ('Shelly', 21, 'August'), ('Sammy', 98, 'June'), ('Maryann', 51, 'March'), ('Kathleen', 49, 'August'), ('Andrew', 12, 'April'), ('Joseph', 24, 'April'), ('Kathleen', 78, 'June'), ('Lisa', 36, 'April'), ('Viola', 59, 'June'), ('George', 3, 'February'), ('Bonnie', 87, 'September'), ('Robert', 94, 'March'), ('William', 85, 'July'), ('Sabrina', 43, 'September'), ('John', 69, 'December'), ('Robert', 15, 'June'), ('Gil', 52, 'June'), ('Calvin', 57, 'August'), ('Robert', 36, 'November'), ('Dusty', 52, 'April'), ('Dario', 5, 'November'), ('Joeann', 52, 'August'), ('Terry', 5, 'June'), ('Alan', 33, 'January'), ('Rosa', 10, 'August'), ('Jeane', 71, 'May'), ('James', 28, 'March'), ('Rachel', 70, 'March'), ('Tu', 9, 'March'), ('Chelsea', 25, 'May'), ('Andrea', 28, 'September'), ('Ernest', 76, 'August'), ('Erica', 71, 'April'), ('Priscilla', 22, 'February'), ('Carol', 35, 'April'), ('Michael', 35, 'May'), ('Dale', 100, 'March'), ('Arthur', 9, 'March'), ('Helen', 95, 'January'), ('James', 69, 'August'), ('Donna', 52, 'October'), ('Patricia', 66, 'February'), ('Betty', 91, 'November'), ('Patricia', 39, 'August'), ('Mollie', 84, 'June'), ('Nicole', 65, 'September'), ('Ernest', 29, 'September'), ('Wendy', 20, 'January'), ('Graciela', 98, 'September'), ('Teresa', 30, 'July'), ('Nicole', 83, 'July'), ('Trang', 30, 'December'), ('Caleb', 15, 'June'), ('Robert', 88, 'April'), ('Paul', 89, 'February'), ('Nieves', 24, 'August'), ('Arleen', 98, 'September'), ('Milton', 62, 'August'), ('James', 94, 'February'), ('Lawrence', 86, 'April'), ('Edward', 63, 'July'), ('Susan', 34, 'May'), ('Patricia', 23, 'November'), ('Tana', 23, 'December'), ('Jessica', 19, 'February'), ('Suzanne', 10, 'August'), ('Darren', 80, 'August'), ('Arthur', 88, 'September'), ('Holly', 67, 'December'), ('Mary', 17, 'February'), ('Randal', 91, 'March'), ('John', 85, 'June'), ('Laura', 97, 'December'), ('Betty', 29, 'February'), ('Chelsea', 7, 'May'), ('Margaret', 34, 'April'), ('Angel', 38, 'July'), ('Jeffrey', 92, 'March'), ('Mary', 29, 'June'), ('Donald', 14, 'December'), ('David', 52, 'March'), ('Roger', 94, 'July'), ('Evan', 62, 'May'), ('Danny', 70, 'September'), ('William', 22, 'November')]\n"
     ]
    }
   ],
   "source": [
    "names = ['Howard', 'Richard', 'Jules', 'Trula', 'Michael', 'Elizabeth', 'Richard', 'Shirley', 'Mark', 'Brianna', 'Kenneth', 'Gwen', 'William', 'Rosa', 'Denver', 'Shelly', 'Sammy', 'Maryann', 'Kathleen', 'Andrew', 'Joseph', 'Kathleen', 'Lisa', 'Viola', 'George', 'Bonnie', 'Robert', 'William', 'Sabrina', 'John', 'Robert', 'Gil', 'Calvin', 'Robert', 'Dusty', 'Dario', 'Joeann', 'Terry', 'Alan', 'Rosa', 'Jeane', 'James', 'Rachel', 'Tu', 'Chelsea', 'Andrea', 'Ernest', 'Erica', 'Priscilla', 'Carol', 'Michael', 'Dale', 'Arthur', 'Helen', 'James', 'Donna', 'Patricia', 'Betty', 'Patricia', 'Mollie', 'Nicole', 'Ernest', 'Wendy', 'Graciela', 'Teresa', 'Nicole', 'Trang', 'Caleb', 'Robert', 'Paul', 'Nieves', 'Arleen', 'Milton', 'James', 'Lawrence', 'Edward', 'Susan', 'Patricia', 'Tana', 'Jessica', 'Suzanne', 'Darren', 'Arthur', 'Holly', 'Mary', 'Randal', 'John', 'Laura', 'Betty', 'Chelsea', 'Margaret', 'Angel', 'Jeffrey', 'Mary', 'Donald', 'David', 'Roger', 'Evan', 'Danny', 'William']\n",
    "ages  = [17, 58, 79, 8, 10, 57, 4, 98, 19, 47, 81, 68, 48, 13, 39, 21, 98, 51, 49, 12, 24, 78, 36, 59, 3, 87, 94, 85, 43, 69, 15, 52, 57, 36, 52, 5, 52, 5, 33, 10, 71, 28, 70, 9, 25, 28, 76, 71, 22, 35, 35, 100, 9, 95, 69, 52, 66, 91, 39, 84, 65, 29, 20, 98, 30, 83, 30, 15, 88, 89, 24, 98, 62, 94, 86, 63, 34, 23, 23, 19, 10, 80, 88, 67, 17, 91, 85, 97, 29, 7, 34, 38, 92, 29, 14, 52, 94, 62, 70, 22]\n",
    "months = ['January', 'March', 'January', 'October', 'April', 'February', 'August', 'January', 'June', 'August', 'February', 'May', 'March', 'June', 'February', 'August', 'June', 'March', 'August', 'April', 'April', 'June', 'April', 'June', 'February', 'September', 'March', 'July', 'September', 'December', 'June', 'June', 'August', 'November', 'April', 'November', 'August', 'June', 'January', 'August', 'May', 'March', 'March', 'March', 'May', 'September', 'August', 'April', 'February', 'April', 'May', 'March', 'March', 'January', 'August', 'October', 'February', 'November', 'August', 'June', 'September', 'September', 'January', 'September', 'July', 'July', 'December', 'June', 'April', 'February', 'August', 'September', 'August', 'February', 'April', 'July', 'May', 'November', 'December', 'February', 'August', 'August', 'September', 'December', 'February', 'March', 'June', 'December', 'February', 'May', 'April', 'July', 'March', 'June', 'December', 'March', 'July', 'May', 'September', 'November']\n",
    "\n",
    "data = zip(names, ages, months)\n",
    "person_profile = []\n",
    "for item in data:\n",
    "    person_profile.append(item)\n",
    "    \n",
    "print(person_profile)"
   ]
  },
  {
   "cell_type": "code",
   "execution_count": 289,
   "id": "3e92d226",
   "metadata": {},
   "outputs": [],
   "source": [
    "class Person:\n",
    "    def __init__(self, name, age, month):\n",
    "        self.name = name\n",
    "        self.age = age\n",
    "        self.birthday_month = month\n",
    "        \n",
    "    def birthday(self):\n",
    "        self.age += 1"
   ]
  },
  {
   "cell_type": "code",
   "execution_count": null,
   "id": "39bd742a",
   "metadata": {},
   "outputs": [],
   "source": []
  },
  {
   "cell_type": "code",
   "execution_count": 290,
   "id": "c07c7193",
   "metadata": {},
   "outputs": [],
   "source": [
    "def create_person_objects(names, ages, months):\n",
    "    my_data = zip(names, ages, months)\n",
    "    person_objects = []\n",
    "    for item in my_data:\n",
    "        person_objects.append(Person(*item))\n",
    "    return person_objects"
   ]
  },
  {
   "cell_type": "code",
   "execution_count": 291,
   "id": "47094659",
   "metadata": {},
   "outputs": [
    {
     "name": "stdout",
     "output_type": "stream",
     "text": [
      "{'Michael': 11, 'Andrew': 13, 'Joseph': 25, 'Lisa': 37, 'Dusty': 53, 'Erica': 72, 'Carol': 36, 'Robert': 89, 'Lawrence': 87, 'Margaret': 35}\n"
     ]
    }
   ],
   "source": [
    "names = ['Howard', 'Richard', 'Jules', 'Trula', 'Michael', 'Elizabeth', 'Richard', 'Shirley', 'Mark', 'Brianna', 'Kenneth', 'Gwen', 'William', 'Rosa', 'Denver', 'Shelly', 'Sammy', 'Maryann', 'Kathleen', 'Andrew', 'Joseph', 'Kathleen', 'Lisa', 'Viola', 'George', 'Bonnie', 'Robert', 'William', 'Sabrina', 'John', 'Robert', 'Gil', 'Calvin', 'Robert', 'Dusty', 'Dario', 'Joeann', 'Terry', 'Alan', 'Rosa', 'Jeane', 'James', 'Rachel', 'Tu', 'Chelsea', 'Andrea', 'Ernest', 'Erica', 'Priscilla', 'Carol', 'Michael', 'Dale', 'Arthur', 'Helen', 'James', 'Donna', 'Patricia', 'Betty', 'Patricia', 'Mollie', 'Nicole', 'Ernest', 'Wendy', 'Graciela', 'Teresa', 'Nicole', 'Trang', 'Caleb', 'Robert', 'Paul', 'Nieves', 'Arleen', 'Milton', 'James', 'Lawrence', 'Edward', 'Susan', 'Patricia', 'Tana', 'Jessica', 'Suzanne', 'Darren', 'Arthur', 'Holly', 'Mary', 'Randal', 'John', 'Laura', 'Betty', 'Chelsea', 'Margaret', 'Angel', 'Jeffrey', 'Mary', 'Donald', 'David', 'Roger', 'Evan', 'Danny', 'William']\n",
    "ages  = [17, 58, 79, 8, 10, 57, 4, 98, 19, 47, 81, 68, 48, 13, 39, 21, 98, 51, 49, 12, 24, 78, 36, 59, 3, 87, 94, 85, 43, 69, 15, 52, 57, 36, 52, 5, 52, 5, 33, 10, 71, 28, 70, 9, 25, 28, 76, 71, 22, 35, 35, 100, 9, 95, 69, 52, 66, 91, 39, 84, 65, 29, 20, 98, 30, 83, 30, 15, 88, 89, 24, 98, 62, 94, 86, 63, 34, 23, 23, 19, 10, 80, 88, 67, 17, 91, 85, 97, 29, 7, 34, 38, 92, 29, 14, 52, 94, 62, 70, 22]\n",
    "months = ['January', 'March', 'January', 'October', 'April', 'February', 'August', 'January', 'June', 'August', 'February', 'May', 'March', 'June', 'February', 'August', 'June', 'March', 'August', 'April', 'April', 'June', 'April', 'June', 'February', 'September', 'March', 'July', 'September', 'December', 'June', 'June', 'August', 'November', 'April', 'November', 'August', 'June', 'January', 'August', 'May', 'March', 'March', 'March', 'May', 'September', 'August', 'April', 'February', 'April', 'May', 'March', 'March', 'January', 'August', 'October', 'February', 'November', 'August', 'June', 'September', 'September', 'January', 'September', 'July', 'July', 'December', 'June', 'April', 'February', 'August', 'September', 'August', 'February', 'April', 'July', 'May', 'November', 'December', 'February', 'August', 'August', 'September', 'December', 'February', 'March', 'June', 'December', 'February', 'May', 'April', 'July', 'March', 'June', 'December', 'March', 'July', 'May', 'September', 'November']\n",
    "\n",
    "people = create_person_objects(names, ages, months)\n",
    "april_birthdays = {}\n",
    "for ind in people:\n",
    "    #april_birthdays[ind.name] = ind.age+1\n",
    "    if ind.birthday_month == \"April\":\n",
    "        april_birthdays[ind.name] = ind.age+1\n",
    "print(april_birthdays)"
   ]
  },
  {
   "cell_type": "code",
   "execution_count": 292,
   "id": "9b934b36",
   "metadata": {},
   "outputs": [
    {
     "name": "stdout",
     "output_type": "stream",
     "text": [
      "{'January': 6, 'February': 11, 'March': 12, 'April': 10, 'May': 7, 'June': 12, 'July': 6, 'August': 14, 'September': 9, 'October': 2, 'November': 5, 'December': 6}\n"
     ]
    }
   ],
   "source": [
    "people = create_person_objects(names, ages, months)\n",
    "#birth_months = []\n",
    "#for ind in people:\n",
    "    #birth_months.append(ind.birthday_month)\n",
    "#print(birth_months)\n",
    "\n",
    "months = {'January':0, 'February':0, 'March':0, 'April':0, 'May':0, \n",
    "              'June':0, 'July':0, 'August':0, 'September':0, 'October':0,\n",
    "              'November':0, 'December':0}\n",
    "\n",
    "for person in people:\n",
    "    months[person.birthday_month] += 1\n",
    "    \n",
    "#max_month = None\n",
    "#max_value = 0\n",
    "#for month in months.keys():\n",
    "    #if months[month] > max_value:\n",
    "        #max_value = months[month]\n",
    "        #max_month = month\n",
    "    \n",
    "    \n",
    "print(months)"
   ]
  },
  {
   "cell_type": "code",
   "execution_count": 228,
   "id": "ad0184d2",
   "metadata": {},
   "outputs": [],
   "source": [
    "def get_april_birthdays(people):\n",
    "    # TODO:\n",
    "    # Increment \"age\" for all people with birthdays in April.\n",
    "    # Return a dictionary \"april_birthdays\" with the names of\n",
    "    # all people with April birthdays as keys, and their updated ages \n",
    "    # as values. See the test below for an example expected output.\n",
    "    \n",
    "    #april_birthdays = {}\n",
    "    #for ind in people:\n",
    "        #if ind.birthday_month == \"April\":\n",
    "            #april_birthdays[ind.name] = ind.age+1\n",
    "            \n",
    "    #return april_birthdays\n",
    "    \n",
    "    # TODO: Modify the return statement \n",
    "    return {ind.name : ind.age+1 for ind in people if ind.birthday_month == \"April\"}"
   ]
  },
  {
   "cell_type": "code",
   "execution_count": null,
   "id": "fb641f86",
   "metadata": {},
   "outputs": [],
   "source": [
    "def get_most_common_month(people):\n",
    "    # TODO:\n",
    "    # Use the \"months\" dictionary to record counts of birthday months\n",
    "    # for persons in the \"people\" data.\n",
    "    # Return the month with the largest number of birthdays.\n",
    "    months = {'January':0, 'February':0, 'March':0, 'April':0, 'May':0, \n",
    "              'June':0, 'July':0, 'August':0, 'September':0, 'October':0,\n",
    "              'November':0, 'December':0}\n",
    "    \n",
    "    # TODO: Modify the return statement.\n",
    "    return"
   ]
  },
  {
   "cell_type": "code",
   "execution_count": null,
   "id": "89cb6922",
   "metadata": {},
   "outputs": [],
   "source": []
  }
 ],
 "metadata": {
  "kernelspec": {
   "display_name": "Python 3 (ipykernel)",
   "language": "python",
   "name": "python3"
  },
  "language_info": {
   "codemirror_mode": {
    "name": "ipython",
    "version": 3
   },
   "file_extension": ".py",
   "mimetype": "text/x-python",
   "name": "python",
   "nbconvert_exporter": "python",
   "pygments_lexer": "ipython3",
   "version": "3.9.7"
  }
 },
 "nbformat": 4,
 "nbformat_minor": 5
}
