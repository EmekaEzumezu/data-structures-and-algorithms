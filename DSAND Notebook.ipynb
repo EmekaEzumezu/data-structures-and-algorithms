{
 "cells": [
  {
   "cell_type": "code",
   "execution_count": null,
   "id": "0ecd1f61",
   "metadata": {},
   "outputs": [],
   "source": [
    "def daysBetweenDates(year1, month1, day1, year2, month2, day2):\n",
    "    \"\"\"\n",
    "    Calculates the number of days between two dates.\n",
    "    \"\"\"\n",
    "\n",
    "    # TODO - by the end of this lesson you will have\n",
    "    #  completed this function. You do not need to complete\n",
    "    #  it yet though!\n",
    "\n",
    "    return\n",
    "\n",
    "\n",
    "daysBetweenDates(2017, 12, 30,  2018, 1,  1)"
   ]
  },
  {
   "cell_type": "code",
   "execution_count": 22,
   "id": "b5822cd0",
   "metadata": {},
   "outputs": [],
   "source": [
    "def dateIsBefore(year1, month1, day1, year2, month2, day2):\n",
    "    if year1 < year2:\n",
    "        return True\n",
    "    if month1 != month2:\n",
    "        return True\n",
    "    if day1 != day2:\n",
    "        return True\n",
    "    return False"
   ]
  },
  {
   "cell_type": "code",
   "execution_count": 26,
   "id": "c0077de7",
   "metadata": {},
   "outputs": [
    {
     "data": {
      "text/plain": [
       "False"
      ]
     },
     "execution_count": 26,
     "metadata": {},
     "output_type": "execute_result"
    }
   ],
   "source": [
    "dateIsBefore(2019, 5, 12,  2019, 5,  12)"
   ]
  },
  {
   "cell_type": "code",
   "execution_count": 9,
   "id": "e9665839",
   "metadata": {},
   "outputs": [],
   "source": [
    "def daysBetweenDates(year1, month1, day1, year2, month2, day2):\n",
    "    \"\"\"Returns the number of days between year1/month1/day1\n",
    "       and year2/month2/day2. Assumes inputs are valid dates\n",
    "       in Gregorian calendar, and the first date is not after\n",
    "       the second.\"\"\"\n",
    "        \n",
    "    # YOUR CODE HERE!\n",
    "    # Validate input\n",
    "    if year1 > year2:\n",
    "        print(\"Invalide Year\")\n",
    "        return\n",
    "    if year1 == year2 and month1 > month2:\n",
    "        print(\"Invalide Month\")\n",
    "        return\n",
    "    if year1 == year2 and month1 == month2 and day1 > day2:\n",
    "        print(\"Invalide Day\")\n",
    "        return\n",
    "        \n",
    "    days = 0\n",
    "    while year1 < year2 or month1 != month2 or day1 != day2:\n",
    "        year1, month1, day1 = nextDay(year1, month1, day1)\n",
    "        days += 1\n",
    "    return days"
   ]
  },
  {
   "cell_type": "code",
   "execution_count": 28,
   "id": "97c09323",
   "metadata": {},
   "outputs": [
    {
     "name": "stdout",
     "output_type": "stream",
     "text": [
      "Test case passed!\n",
      "Test case passed!\n",
      "Test case passed!\n"
     ]
    }
   ],
   "source": [
    "# Define a daysBetweenDates procedure that would produce the\n",
    "# correct output if there was a correct nextDay procedure.\n",
    "#\n",
    "# Note that this will NOT produce correct outputs yet, since\n",
    "# our nextDay procedure assumes all months have 30 days\n",
    "# (hence a year is 360 days, instead of 365).\n",
    "# \n",
    "\n",
    "def nextDay(year, month, day):\n",
    "    \"\"\"Simple version: assume every month has 30 days\"\"\"\n",
    "    if day < 30:\n",
    "        return year, month, day + 1\n",
    "    else:\n",
    "        if month == 12:\n",
    "            return year + 1, 1, 1\n",
    "        else:\n",
    "            return year, month + 1, 1\n",
    "        \n",
    "def dateIsBefore(year1, month1, day1, year2, month2, day2):\n",
    "    if year1 < year2:\n",
    "        return True\n",
    "    if month1 != month2:\n",
    "        return True\n",
    "    if day1 != day2:\n",
    "        return True\n",
    "    return False\n",
    "        \n",
    "def daysBetweenDates(year1, month1, day1, year2, month2, day2):\n",
    "    \"\"\"Returns the number of days between year1/month1/day1\n",
    "       and year2/month2/day2. Assumes inputs are valid dates\n",
    "       in Gregorian calendar, and the first date is not after\n",
    "       the second.\"\"\"\n",
    "        \n",
    "    # YOUR CODE HERE!\n",
    "    # Validate input\n",
    "    if year1 > year2:\n",
    "        print(\"Invalide Year\")\n",
    "        return\n",
    "    if year1 == year2 and month1 > month2:\n",
    "        print(\"Invalide Month\")\n",
    "        return\n",
    "    if year1 == year2 and month1 == month2 and day1 > day2:\n",
    "        print(\"Invalide Day\")\n",
    "        return\n",
    "        \n",
    "    days = 0\n",
    "    while dateIsBefore(year1, month1, day1, year2, month2, day2):\n",
    "        year1, month1, day1 = nextDay(year1, month1, day1)\n",
    "        days += 1\n",
    "    return days\n",
    "\n",
    "def test():\n",
    "    test_cases = [((2012,9,30,2012,10,30),30), \n",
    "                  ((2012,1,1,2013,1,1),360),\n",
    "                  ((2012,9,1,2012,9,4),3)]\n",
    "    \n",
    "    for (args, answer) in test_cases:\n",
    "        result = daysBetweenDates(*args)\n",
    "        if result != answer:\n",
    "            print(\"Test with data:\", args, \"failed\")\n",
    "        else:\n",
    "            print(\"Test case passed!\")\n",
    "\n",
    "test()"
   ]
  },
  {
   "cell_type": "code",
   "execution_count": null,
   "id": "a7cb1fac",
   "metadata": {},
   "outputs": [],
   "source": []
  }
 ],
 "metadata": {
  "kernelspec": {
   "display_name": "Python 3 (ipykernel)",
   "language": "python",
   "name": "python3"
  },
  "language_info": {
   "codemirror_mode": {
    "name": "ipython",
    "version": 3
   },
   "file_extension": ".py",
   "mimetype": "text/x-python",
   "name": "python",
   "nbconvert_exporter": "python",
   "pygments_lexer": "ipython3",
   "version": "3.9.7"
  }
 },
 "nbformat": 4,
 "nbformat_minor": 5
}
