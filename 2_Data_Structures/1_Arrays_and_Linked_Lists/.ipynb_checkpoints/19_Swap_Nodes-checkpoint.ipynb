{
 "cells": [
  {
   "cell_type": "markdown",
   "metadata": {
    "graffitiCellId": "id_wwy91p2"
   },
   "source": [
    "## Problem Statement\n",
    "\n",
    "Given a linked list, swap the two nodes present at position `i` and `j`. The positions are based on 0-based indexing.\n",
    "\n",
    "**Note:** You have to swap the nodes and not just the values. \n",
    "\n",
    "**Example:**\n",
    "* `linked_list = 3 4 5 2 6 1 9`\n",
    "* `positions = 3 4`\n",
    "* `output = 3 4 5 6 2 1 9`\n",
    "\n",
    "**Explanation:** \n",
    "* The node at position 3 has the value `2`\n",
    "* The node at position 4 has the value `6`\n",
    "* Swapping these nodes will result in a final order of nodes of `3 4 5 6 2 1 9`"
   ]
  },
  {
   "cell_type": "code",
   "execution_count": 46,
   "metadata": {
    "graffitiCellId": "id_s77kdg7"
   },
   "outputs": [],
   "source": [
    "class Node:\n",
    "    \"\"\"LinkedListNode class to be used for this problem\"\"\"\n",
    "    def __init__(self, data):\n",
    "        self.data = data\n",
    "        self.next = None"
   ]
  },
  {
   "cell_type": "code",
   "execution_count": 47,
   "metadata": {},
   "outputs": [],
   "source": [
    "# COMPLETED\n",
    "\n",
    "def swap_nodes(head, left_index, right_index):\n",
    "    \"\"\"\n",
    "    :param: head- head of input linked list\n",
    "    :param: left_index - indicates position\n",
    "    :param: right_index - indicates position\n",
    "    return: head of updated linked list with nodes swapped\n",
    "    TODO: complete this function and swap nodes present at left_index and right_index\n",
    "    Do not create a new linked list\n",
    "    \"\"\"  \n",
    "    \n",
    "    prevNode1 = None;  \n",
    "    prevNode2 = None;  \n",
    "    node1 = head  \n",
    "    node2 = head\n",
    "\n",
    "    #Checks if list is empty  \n",
    "    if(head == None):  \n",
    "        return  \n",
    "\n",
    "    #If left_index and right_index are equal, then list will remain the same  \n",
    "    if(left_index == right_index):  \n",
    "        return  \n",
    "\n",
    "    pos1 = 0\n",
    "    #Search for node1  \n",
    "    while node1 != None and pos1 != left_index:  \n",
    "        prevNode1 = node1  \n",
    "        node1 = node1.next \n",
    "        pos1 += 1\n",
    "\n",
    "    pos2 = 0\n",
    "    #Search for node2  \n",
    "    while node2 != None and pos2 != right_index:  \n",
    "        prevNode2 = node2  \n",
    "        node2 = node2.next \n",
    "        pos2 += 1\n",
    "\n",
    "    if node1 != None and node2 != None:  \n",
    "\n",
    "        #If previous node to node1 is not None then, it will point to node2  \n",
    "        if prevNode1 != None:  \n",
    "            prevNode1.next = node2  \n",
    "        else:  \n",
    "            head  = node2  \n",
    "\n",
    "        #If previous node to node2 is not None then, it will point to node1  \n",
    "        if prevNode2 != None:  \n",
    "            prevNode2.next = node1  \n",
    "        else:  \n",
    "            head  = node1  \n",
    "\n",
    "        #Swaps the next nodes of node1 and node2  \n",
    "        temp = node1.next   \n",
    "        node1.next = node2.next   \n",
    "        node2.next = temp  \n",
    "    else:  \n",
    "        print(\"Swapping is not possible\");  \n",
    "\n",
    "    return head\n"
   ]
  },
  {
   "cell_type": "code",
   "execution_count": 32,
   "metadata": {},
   "outputs": [
    {
     "name": "stdout",
     "output_type": "stream",
     "text": [
      "Original list: \n",
      "1\n",
      "2\n",
      "3\n",
      "4\n",
      "5\n",
      "List after swapping nodes: \n",
      "1\n",
      "5\n",
      "3\n",
      "4\n",
      "2\n"
     ]
    }
   ],
   "source": [
    "# A SWAP CLASS FOR MORE PRACTICE\n",
    "#Represent a node of the singly linked list  \n",
    "class Node:  \n",
    "    def __init__(self,data):  \n",
    "        self.data = data;  \n",
    "        self.next = None;  \n",
    "          \n",
    "class SwapNodes:  \n",
    "    #Represent the head and tail of the singly linked list  \n",
    "    def __init__(self):  \n",
    "        self.head = None;  \n",
    "        self.tail = None;  \n",
    "          \n",
    "    #addNode() will add a new node to the list  \n",
    "    def addNode(self, data):  \n",
    "        #Create a new node  \n",
    "        newNode = Node(data);  \n",
    "          \n",
    "        #Checks if the list is empty  \n",
    "        if(self.head == None):  \n",
    "            #If list is empty, both head and tail will point to new node  \n",
    "            self.head = newNode;  \n",
    "            self.tail = newNode;  \n",
    "        else:  \n",
    "            #newNode will be added after tail such that tail's next will point to newNode  \n",
    "            self.tail.next = newNode;  \n",
    "            #newNode will become new tail of the list  \n",
    "            self.tail = newNode;  \n",
    "              \n",
    "    #swap() will swap the given two nodes  \n",
    "    def swap(self, n1, n2):  \n",
    "        prevNode1 = None;  \n",
    "        prevNode2 = None;  \n",
    "        node1 = self.head;  \n",
    "        node2 = self.head;  \n",
    "          \n",
    "        #Checks if list is empty  \n",
    "        if(self.head == None):  \n",
    "            return;  \n",
    "              \n",
    "        #If n1 and n2 are equal, then list will remain the same  \n",
    "        if(n1 == n2):  \n",
    "            return;  \n",
    "              \n",
    "        #Search for node1  \n",
    "        while(node1 != None and node1.data != n1):  \n",
    "            prevNode1 = node1;  \n",
    "            node1 = node1.next;  \n",
    "              \n",
    "        #Search for node2  \n",
    "        while(node2 != None and node2.data != n2):  \n",
    "            prevNode2 = node2;  \n",
    "            node2 = node2.next;  \n",
    "              \n",
    "        if(node1 != None and node2 != None):  \n",
    "              \n",
    "            #If previous node to node1 is not None then, it will point to node2  \n",
    "            if(prevNode1 != None):  \n",
    "                prevNode1.next = node2;  \n",
    "            else:  \n",
    "                self.head  = node2;  \n",
    "                  \n",
    "            #If previous node to node2 is not None then, it will point to node1  \n",
    "            if(prevNode2 != None):  \n",
    "                prevNode2.next = node1;  \n",
    "            else:  \n",
    "                self.head  = node1;  \n",
    "                  \n",
    "            #Swaps the next nodes of node1 and node2  \n",
    "            temp = node1.next;   \n",
    "            node1.next = node2.next;   \n",
    "            node2.next = temp;  \n",
    "        else:  \n",
    "            print(\"Swapping is not possible\");  \n",
    "              \n",
    "    #display() will display all the nodes present in the list  \n",
    "    def display(self):  \n",
    "        #Node current will point to head  \n",
    "        current = self.head;  \n",
    "          \n",
    "        if(self.head == None):  \n",
    "            print(\"List is empty\");  \n",
    "            return;  \n",
    "        while(current != None):  \n",
    "            #Prints each node by incrementing pointer  \n",
    "            print(current.data),  \n",
    "            current = current.next;  \n",
    "         \n",
    "   \n",
    "sList = SwapNodes();  \n",
    "   \n",
    "#Add nodes to the list  \n",
    "sList.addNode(1);  \n",
    "sList.addNode(2);  \n",
    "sList.addNode(3);  \n",
    "sList.addNode(4);  \n",
    "sList.addNode(5);  \n",
    "   \n",
    "print(\"Original list: \");  \n",
    "sList.display();  \n",
    "   \n",
    "   \n",
    "#Swaps the node 2 with node 5  \n",
    "sList.swap(2,5);  \n",
    "   \n",
    "print(\"List after swapping nodes: \");  \n",
    "sList.display();  "
   ]
  },
  {
   "cell_type": "markdown",
   "metadata": {
    "graffitiCellId": "id_cek9joh"
   },
   "source": [
    "<span class=\"graffiti-highlight graffiti-id_cek9joh-id_kqbupgc\"><i></i><button>Show Solution</button></span>"
   ]
  },
  {
   "cell_type": "code",
   "execution_count": 33,
   "metadata": {},
   "outputs": [],
   "source": [
    "# Solution\n",
    "\n",
    "def swap_nodes(head, left_index, right_index):\n",
    "\n",
    "    # if both the indices are same\n",
    "    if left_index == right_index:\n",
    "        return head\n",
    "    \n",
    "    \n",
    "    left_previous = None\n",
    "    left_current = None\n",
    "\n",
    "    right_previous = None\n",
    "    right_current = None\n",
    "\n",
    "    count = 0\n",
    "    temp = head\n",
    "    new_head = None\n",
    "\n",
    "    # find out previous and current node at both the indices\n",
    "    while temp is not None:\n",
    "        if count == left_index:\n",
    "            left_current = temp\n",
    "        elif count == right_index:\n",
    "            right_current = temp\n",
    "            break\n",
    "\n",
    "        if left_current is None:\n",
    "            left_previous = temp\n",
    "        right_previous = temp\n",
    "        temp = temp.next\n",
    "        count += 1\n",
    "\n",
    "    right_previous.next = left_current\n",
    "    temp = left_current.next\n",
    "    left_current.next = right_current.next\n",
    "\n",
    "    # if both the indices are next to each other\n",
    "    if left_index != right_index:\n",
    "        right_current.next = temp\n",
    "\n",
    "    # if the node at first index is head of the original linked list\n",
    "    if left_previous is None:\n",
    "        new_head = right_current\n",
    "    else:\n",
    "        left_previous.next = right_current\n",
    "        new_head = head\n",
    "\n",
    "    return new_head"
   ]
  },
  {
   "cell_type": "code",
   "execution_count": 48,
   "metadata": {
    "graffitiCellId": "id_lzqbwc8"
   },
   "outputs": [],
   "source": [
    "def test_function(test_case):\n",
    "    head = test_case[0]\n",
    "    left_index = test_case[1]\n",
    "    right_index = test_case[2]\n",
    "    \n",
    "    left_node = None\n",
    "    right_node = None\n",
    "    \n",
    "    temp = head\n",
    "    index = 0\n",
    "    try:\n",
    "        while temp is not None:\n",
    "            if index == left_index:\n",
    "                left_node = temp\n",
    "            if index == right_index:\n",
    "                right_node = temp\n",
    "                break\n",
    "            index += 1\n",
    "            temp = temp.next\n",
    "\n",
    "        updated_head = swap_nodes(head, left_index, right_index)\n",
    "\n",
    "        temp = updated_head\n",
    "        index = 0\n",
    "        pass_status = [False, False]\n",
    "\n",
    "        while temp is not None:\n",
    "            if index == left_index:\n",
    "                pass_status[0] = temp is right_node\n",
    "            if index == right_index:\n",
    "                pass_status[1] = temp is left_node\n",
    "\n",
    "            index += 1\n",
    "            temp = temp.next\n",
    "\n",
    "        if pass_status[0] and pass_status[1]:\n",
    "            print(\"Pass\")\n",
    "        else:\n",
    "            print(\"Fail\")\n",
    "        return updated_head\n",
    "    except Exception as e:\n",
    "        print(\"Fail\")"
   ]
  },
  {
   "cell_type": "code",
   "execution_count": 49,
   "metadata": {
    "graffitiCellId": "id_dmn7hpj"
   },
   "outputs": [],
   "source": [
    "# helper functions for testing purpose\n",
    "def create_linked_list(arr):\n",
    "    if len(arr)==0:\n",
    "        return None\n",
    "    head = Node(arr[0])\n",
    "    tail = head\n",
    "    for data in arr[1:]:\n",
    "        tail.next = Node(data)\n",
    "        tail = tail.next\n",
    "    return head\n",
    "\n",
    "def print_linked_list(head):\n",
    "    while head:\n",
    "        print(head.data, end=\" \")\n",
    "        head = head.next\n",
    "    print()"
   ]
  },
  {
   "cell_type": "code",
   "execution_count": 50,
   "metadata": {
    "graffitiCellId": "id_vf3gh3b"
   },
   "outputs": [
    {
     "name": "stdout",
     "output_type": "stream",
     "text": [
      "Pass\n"
     ]
    }
   ],
   "source": [
    "arr = [3, 4, 5, 2, 6, 1, 9]\n",
    "head = create_linked_list(arr)\n",
    "left_index = 3\n",
    "right_index = 4\n",
    "\n",
    "test_case = [head, left_index, right_index]\n",
    "updated_head = test_function(test_case)"
   ]
  },
  {
   "cell_type": "code",
   "execution_count": 51,
   "metadata": {
    "graffitiCellId": "id_hmw9ljb"
   },
   "outputs": [
    {
     "name": "stdout",
     "output_type": "stream",
     "text": [
      "Pass\n"
     ]
    }
   ],
   "source": [
    "arr = [3, 4, 5, 2, 6, 1, 9]\n",
    "left_index = 2 \n",
    "right_index = 4\n",
    "head = create_linked_list(arr)\n",
    "test_case = [head, left_index, right_index]\n",
    "updated_head = test_function(test_case)"
   ]
  },
  {
   "cell_type": "code",
   "execution_count": 52,
   "metadata": {
    "graffitiCellId": "id_vekfhar"
   },
   "outputs": [
    {
     "name": "stdout",
     "output_type": "stream",
     "text": [
      "Pass\n"
     ]
    }
   ],
   "source": [
    "arr = [3, 4, 5, 2, 6, 1, 9]\n",
    "left_index = 0\n",
    "right_index = 1\n",
    "head = create_linked_list(arr)\n",
    "test_case = [head, left_index, right_index]\n",
    "updated_head = test_function(test_case)"
   ]
  },
  {
   "cell_type": "code",
   "execution_count": null,
   "metadata": {},
   "outputs": [],
   "source": []
  }
 ],
 "metadata": {
  "graffiti": {
   "firstAuthorId": "dev",
   "id": "id_cuns29g",
   "language": "EN"
  },
  "kernelspec": {
   "display_name": "Python 3 (ipykernel)",
   "language": "python",
   "name": "python3"
  },
  "language_info": {
   "codemirror_mode": {
    "name": "ipython",
    "version": 3
   },
   "file_extension": ".py",
   "mimetype": "text/x-python",
   "name": "python",
   "nbconvert_exporter": "python",
   "pygments_lexer": "ipython3",
   "version": "3.9.7"
  }
 },
 "nbformat": 4,
 "nbformat_minor": 2
}
